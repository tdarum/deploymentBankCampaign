{
 "cells": [
  {
   "cell_type": "code",
   "execution_count": 1,
   "metadata": {},
   "outputs": [
    {
     "name": "stderr",
     "output_type": "stream",
     "text": [
      "/opt/anaconda3/envs/purwadhika/lib/python3.12/site-packages/tqdm/auto.py:21: TqdmWarning: IProgress not found. Please update jupyter and ipywidgets. See https://ipywidgets.readthedocs.io/en/stable/user_install.html\n",
      "  from .autonotebook import tqdm as notebook_tqdm\n"
     ]
    }
   ],
   "source": [
    "import streamlit as st\n",
    "import pandas as pd\n",
    "import pickle\n",
    "import shap\n",
    "import matplotlib.pyplot as plt\n",
    "from catboost import CatBoostClassifier\n",
    "from sklearn.metrics import classification_report\n",
    "\n"
   ]
  },
  {
   "cell_type": "code",
   "execution_count": 2,
   "metadata": {},
   "outputs": [
    {
     "name": "stderr",
     "output_type": "stream",
     "text": [
      "2024-12-14 05:02:14.736 WARNING streamlit.runtime.scriptrunner_utils.script_run_context: Thread 'MainThread': missing ScriptRunContext! This warning can be ignored when running in bare mode.\n",
      "2024-12-14 05:02:14.864 \n",
      "  \u001b[33m\u001b[1mWarning:\u001b[0m to view this Streamlit app on a browser, run it with the following\n",
      "  command:\n",
      "\n",
      "    streamlit run /opt/anaconda3/envs/purwadhika/lib/python3.12/site-packages/ipykernel_launcher.py [ARGUMENTS]\n",
      "2024-12-14 05:02:14.865 Thread 'MainThread': missing ScriptRunContext! This warning can be ignored when running in bare mode.\n",
      "2024-12-14 05:02:14.865 Thread 'MainThread': missing ScriptRunContext! This warning can be ignored when running in bare mode.\n",
      "2024-12-14 05:02:14.865 Thread 'MainThread': missing ScriptRunContext! This warning can be ignored when running in bare mode.\n",
      "2024-12-14 05:02:14.865 Thread 'MainThread': missing ScriptRunContext! This warning can be ignored when running in bare mode.\n",
      "2024-12-14 05:02:14.866 Thread 'MainThread': missing ScriptRunContext! This warning can be ignored when running in bare mode.\n",
      "2024-12-14 05:02:14.866 Thread 'MainThread': missing ScriptRunContext! This warning can be ignored when running in bare mode.\n",
      "2024-12-14 05:02:14.866 Thread 'MainThread': missing ScriptRunContext! This warning can be ignored when running in bare mode.\n",
      "2024-12-14 05:02:14.866 Thread 'MainThread': missing ScriptRunContext! This warning can be ignored when running in bare mode.\n",
      "2024-12-14 05:02:14.866 Thread 'MainThread': missing ScriptRunContext! This warning can be ignored when running in bare mode.\n",
      "2024-12-14 05:02:14.866 Thread 'MainThread': missing ScriptRunContext! This warning can be ignored when running in bare mode.\n",
      "2024-12-14 05:02:14.867 Thread 'MainThread': missing ScriptRunContext! This warning can be ignored when running in bare mode.\n",
      "2024-12-14 05:02:14.867 Thread 'MainThread': missing ScriptRunContext! This warning can be ignored when running in bare mode.\n",
      "2024-12-14 05:02:14.867 Thread 'MainThread': missing ScriptRunContext! This warning can be ignored when running in bare mode.\n"
     ]
    }
   ],
   "source": [
    "# Load CatBoost Model\n",
    "def load_model(model_path):\n",
    "    with open(model_path, 'rb') as file:\n",
    "        return pickle.load(file)\n",
    "\n",
    "# Load the test data for evaluation\n",
    "def load_data(data_path):\n",
    "    return pd.read_csv(data_path)\n",
    "\n",
    "# Display SHAP Summary Plot\n",
    "def plot_shap_values(model, data):\n",
    "    explainer = shap.TreeExplainer(model)\n",
    "    shap_values = explainer.shap_values(data)\n",
    "    shap.summary_plot(shap_values, data)\n",
    "    st.pyplot(plt)\n",
    "\n",
    "# UI for Streamlit\n",
    "def main():\n",
    "    st.title(\"CatBoost Model Deployment with Streamlit\")\n",
    "\n",
    "    # Sidebar for uploading files\n",
    "    st.sidebar.title(\"Upload Your Files\")\n",
    "    model_file = st.sidebar.file_uploader(\"Upload CatBoost Model (Pickle)\", type=[\"pkl\"])\n",
    "    data_file = st.sidebar.file_uploader(\"Upload Test Data (CSV)\", type=[\"csv\"])\n",
    "\n",
    "    if model_file and data_file:\n",
    "        # Load Model and Data\n",
    "        model = pickle.load(model_file)\n",
    "        data = pd.read_csv(data_file)\n",
    "\n",
    "        # Show data preview\n",
    "        st.write(\"Test Data Preview:\")\n",
    "        st.dataframe(data.head())\n",
    "\n",
    "        # Model Performance Visualization\n",
    "        st.header(\"Model Performance Visualization\")\n",
    "        plot_shap_values(model, data)\n",
    "\n",
    "        # Model Evaluation on Test Data\n",
    "        st.header(\"Model Evaluation\")\n",
    "        y_true = data['target']  # Assuming 'target' is the column name for actual labels\n",
    "        X_test = data.drop(columns=['target'])\n",
    "        y_pred = model.predict(X_test)\n",
    "        st.text(\"Classification Report:\")\n",
    "        st.text(classification_report(y_true, y_pred))\n",
    "\n",
    "        # Prediction UI\n",
    "        st.header(\"Make Predictions\")\n",
    "        st.subheader(\"Single Prediction\")\n",
    "        inputs = {}\n",
    "        for col in X_test.columns:\n",
    "            inputs[col] = st.text_input(f\"Enter value for {col}:\")\n",
    "        if st.button(\"Predict Single\"):\n",
    "            input_df = pd.DataFrame([inputs])\n",
    "            prediction = model.predict(input_df)\n",
    "            st.write(f\"Prediction: {prediction}\")\n",
    "\n",
    "        # Batch Prediction\n",
    "        st.subheader(\"Batch Prediction\")\n",
    "        batch_file = st.file_uploader(\"Upload CSV for Batch Prediction\", type=[\"csv\"])\n",
    "        if batch_file:\n",
    "            batch_data = pd.read_csv(batch_file)\n",
    "            batch_predictions = model.predict(batch_data)\n",
    "            st.write(\"Predictions for batch:\")\n",
    "            st.write(batch_predictions)\n",
    "\n",
    "if __name__ == \"__main__\":\n",
    "    main()\n"
   ]
  },
  {
   "cell_type": "code",
   "execution_count": null,
   "metadata": {},
   "outputs": [],
   "source": []
  }
 ],
 "metadata": {
  "kernelspec": {
   "display_name": "purwadhika",
   "language": "python",
   "name": "python3"
  },
  "language_info": {
   "codemirror_mode": {
    "name": "ipython",
    "version": 3
   },
   "file_extension": ".py",
   "mimetype": "text/x-python",
   "name": "python",
   "nbconvert_exporter": "python",
   "pygments_lexer": "ipython3",
   "version": "3.12.7"
  }
 },
 "nbformat": 4,
 "nbformat_minor": 2
}
